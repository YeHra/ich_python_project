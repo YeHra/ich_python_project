{
 "cells": [
  {
   "cell_type": "raw",
   "id": "60b51ab5-36c2-427b-bc27-7dd61317a0aa",
   "metadata": {},
   "source": [
    "import ui\n",
    "import db\n",
    "import settings\n",
    "\n",
    "def get_action_result(ans, db_conn):\n",
    "    if ans == 1:\n",
    "        keyword_search = ui.keyword()\n",
    "        return db.search_data_about_books(db_conn, name)\n",
    "    if ans == 2:\n",
    "        return db.all_category(db_conn)\n",
    "        return db.min_release_year(db_conn)\n",
    "        return db.max_release_year(db_conn)\n",
    "\n",
    "        name = ui.category_release_year()\n",
    "    print('Некорректный ввод.')\n",
    "\n",
    "\n",
    "def menu(db_conn):\n",
    "    while (ans := ui.main_menu()) != 0:    \n",
    "        result = get_action_result(ans, db_conn)\n",
    "        ui.print_table_data(result)\n",
    "\n",
    "def main():\n",
    "    try:\n",
    "        db_conn = db.connection(settings.DATABASE_MYSQL_W)\n",
    "        menu(db_conn)\n",
    "        db_conn.close()\n",
    "    except Exception as error:\n",
    "        print('Произошла ошибка. ', error)\n",
    "\n",
    "\n",
    "if __name__ == '__main__':\n",
    "    main()"
   ]
  },
  {
   "cell_type": "code",
   "execution_count": null,
   "id": "659f57c1-1133-4a44-889f-4905f5a63e8d",
   "metadata": {},
   "outputs": [],
   "source": []
  }
 ],
 "metadata": {
  "kernelspec": {
   "display_name": "Python 3 (ipykernel)",
   "language": "python",
   "name": "python3"
  },
  "language_info": {
   "codemirror_mode": {
    "name": "ipython",
    "version": 3
   },
   "file_extension": ".py",
   "mimetype": "text/x-python",
   "name": "python",
   "nbconvert_exporter": "python",
   "pygments_lexer": "ipython3",
   "version": "3.12.3"
  }
 },
 "nbformat": 4,
 "nbformat_minor": 5
}
