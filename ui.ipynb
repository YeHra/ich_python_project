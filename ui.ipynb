{
 "cells": [
  {
   "cell_type": "code",
   "execution_count": 3,
   "id": "a70a6332-53f4-42fc-b6c5-96afb1e38b8e",
   "metadata": {},
   "outputs": [
    {
     "name": "stdin",
     "output_type": "stream",
     "text": [
      "Введите жанр фильма: act\n",
      "Введите год выпуска фильма или диапазон годов: vsd\n"
     ]
    },
    {
     "ename": "ValueError",
     "evalue": "invalid literal for int() with base 10: 'vsd'",
     "output_type": "error",
     "traceback": [
      "\u001b[0;31m---------------------------------------------------------------------------\u001b[0m",
      "\u001b[0;31mValueError\u001b[0m                                Traceback (most recent call last)",
      "Cell \u001b[0;32mIn[3], line 30\u001b[0m\n\u001b[1;32m     28\u001b[0m \u001b[38;5;28;01mdef\u001b[39;00m\u001b[38;5;250m \u001b[39m\u001b[38;5;21mcategory_release_year\u001b[39m():\n\u001b[1;32m     29\u001b[0m     \u001b[38;5;28;01mreturn\u001b[39;00m \u001b[38;5;28minput\u001b[39m(\u001b[38;5;124m'\u001b[39m\u001b[38;5;124mВведите жанр фильма:\u001b[39m\u001b[38;5;124m'\u001b[39m), \u001b[38;5;28mint\u001b[39m(\u001b[38;5;28minput\u001b[39m(\u001b[38;5;124m'\u001b[39m\u001b[38;5;124mВведите год выпуска фильма или диапазон годов:\u001b[39m\u001b[38;5;124m'\u001b[39m))\n\u001b[0;32m---> 30\u001b[0m \u001b[38;5;28mprint\u001b[39m(\u001b[43mcategory_release_year\u001b[49m\u001b[43m(\u001b[49m\u001b[43m)\u001b[49m)\n\u001b[1;32m     32\u001b[0m \u001b[38;5;28;01mdef\u001b[39;00m\u001b[38;5;250m \u001b[39m\u001b[38;5;21mprint_table_data\u001b[39m(data: \u001b[38;5;28mlist\u001b[39m[\u001b[38;5;28mtuple\u001b[39m]):\n\u001b[1;32m     33\u001b[0m     \u001b[38;5;28;01mfor\u001b[39;00m items \u001b[38;5;129;01min\u001b[39;00m data:\n",
      "Cell \u001b[0;32mIn[3], line 29\u001b[0m, in \u001b[0;36mcategory_release_year\u001b[0;34m()\u001b[0m\n\u001b[1;32m     28\u001b[0m \u001b[38;5;28;01mdef\u001b[39;00m\u001b[38;5;250m \u001b[39m\u001b[38;5;21mcategory_release_year\u001b[39m():\n\u001b[0;32m---> 29\u001b[0m     \u001b[38;5;28;01mreturn\u001b[39;00m \u001b[38;5;28minput\u001b[39m(\u001b[38;5;124m'\u001b[39m\u001b[38;5;124mВведите жанр фильма:\u001b[39m\u001b[38;5;124m'\u001b[39m), \u001b[38;5;28;43mint\u001b[39;49m\u001b[43m(\u001b[49m\u001b[38;5;28;43minput\u001b[39;49m\u001b[43m(\u001b[49m\u001b[38;5;124;43m'\u001b[39;49m\u001b[38;5;124;43mВведите год выпуска фильма или диапазон годов:\u001b[39;49m\u001b[38;5;124;43m'\u001b[39;49m\u001b[43m)\u001b[49m\u001b[43m)\u001b[49m\n",
      "\u001b[0;31mValueError\u001b[0m: invalid literal for int() with base 10: 'vsd'"
     ]
    }
   ],
   "source": [
    "'''По ключевому слову\n",
    "■ Поиск по названию фильма\n",
    "■ Результат ограничен 10 фильмами\n",
    "■ По запросу пользователя отображаются следующие 10 результатов, или\n",
    "пока не закончатся\n",
    "○ По жанру и диапазону годов выпуска\n",
    "■ Перед вводом пользователю показываются:\n",
    "■ Список всех жанров из таблицы жанров\n",
    "■ Минимальный и максимальный год выпуска фильмов в базе\n",
    "■ Указывается нижняя и верхняя граница, например: от 2005 до 2012, или\n",
    "конкретный год\n",
    "■ По запросу пользователя отображаются следующие 10 результатов, или\n",
    "пока не закончатся'''\n",
    "def main_menu():\n",
    "    prompt = \"\"\"\n",
    "        Меню:\n",
    "        1. Поиск информации о фильме по ключевому слову (в названии или описании фильма (name from film, description from film)\n",
    "        2. Поиск информации о фильме По жанру и году(name from category join film_category on category_id join film on film_id) и диапазону годов выпуска (relase_year from film (1990-2025)\n",
    "        0. Выход\n",
    "        Выберите пункт меню (1, 2 или 0):\n",
    "    \"\"\"\n",
    "    return int(input(prompt))\n",
    "\n",
    "\n",
    "def keyword():\n",
    "    return input('Введите название фильма или ключевое слово:')\n",
    "    \n",
    "def category_release_year():\n",
    "    users_category = input('Введите жанр фильма:')\n",
    "    start_year = int(input('Введите начальный год диапазона:'))\n",
    "    end_year = int(input('Введите конечный год диапазона:'))\n",
    "    film_release_year = int(input('Введите год выпуска фильма:'))\n",
    "    \n",
    "def print_table_data(data: list[tuple]):\n",
    "    for items in data:\n",
    "        items = map(str, items)\n",
    "        print('\\t| '.join(items))"
   ]
  },
  {
   "cell_type": "code",
   "execution_count": null,
   "id": "1db6d99e-d104-4605-bfaa-8d755d190edc",
   "metadata": {},
   "outputs": [],
   "source": []
  }
 ],
 "metadata": {
  "kernelspec": {
   "display_name": "Python 3 (ipykernel)",
   "language": "python",
   "name": "python3"
  },
  "language_info": {
   "codemirror_mode": {
    "name": "ipython",
    "version": 3
   },
   "file_extension": ".py",
   "mimetype": "text/x-python",
   "name": "python",
   "nbconvert_exporter": "python",
   "pygments_lexer": "ipython3",
   "version": "3.12.3"
  }
 },
 "nbformat": 4,
 "nbformat_minor": 5
}
