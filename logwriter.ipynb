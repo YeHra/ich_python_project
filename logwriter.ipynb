{
 "cells": [
  {
   "cell_type": "code",
   "execution_count": 1,
   "id": "75c6ce0b-16d5-453c-98a7-687c1cd6a8ff",
   "metadata": {},
   "outputs": [],
   "source": [
    "import sys\n",
    "sys.path.insert(0,\"/home/user1/Документы/ICH/Python/project/lib/python3.12/site-packages\")\n",
    "from pymongo import MongoClient\n",
    "import settings\n",
    "client.admin.command(\"ping\")\n",
    "print(\"Connection successful!\")"
   ]
  },
  {
   "cell_type": "code",
   "execution_count": null,
   "id": "73ba8cf3-9c08-471e-9129-b7d67d8a9d13",
   "metadata": {},
   "outputs": [],
   "source": [
    "if search:\n",
    "   final_project_100125dam_Hrabovenko.insert_one(search_log)\n",
    "search_log = {\n",
    " \"timestamp\": datetime.now(),\n",
    " \"search_type\": \"keyword\",\n",
    " \"params\": {\n",
    " \"keyword\": \"matrix\"\n",
    " },\n",
    " \"results_count\": 3\n",
    "}"
   ]
  }
 ],
 "metadata": {
  "kernelspec": {
   "display_name": "Python 3 (ipykernel)",
   "language": "python",
   "name": "python3"
  },
  "language_info": {
   "codemirror_mode": {
    "name": "ipython",
    "version": 3
   },
   "file_extension": ".py",
   "mimetype": "text/x-python",
   "name": "python",
   "nbconvert_exporter": "python",
   "pygments_lexer": "ipython3",
   "version": "3.12.3"
  }
 },
 "nbformat": 4,
 "nbformat_minor": 5
}
