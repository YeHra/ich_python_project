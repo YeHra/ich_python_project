{
 "cells": [
  {
   "cell_type": "code",
   "execution_count": null,
   "id": "53d94a79-eb8c-410d-91f7-5f553469a648",
   "metadata": {},
   "outputs": [],
   "source": [
    "import sys\n",
    "sys.path.insert(0,\"/home/user1/Документы/ICH/Python/project/lib/python3.12/site-packages\")\n",
    "import pymysql\n",
    "from pymongo import MongoClient\n",
    "import datetime\n",
    "#импорт модулей\n",
    "# подключение к базе sakila\n",
    "# ввод данных пользователем\n",
    "#логирование данных в монго\n",
    "# запрос к базе\n",
    "# вывод данных\n",
    "#  \n"
   ]
  }
 ],
 "metadata": {
  "kernelspec": {
   "display_name": "Python 3 (ipykernel)",
   "language": "python",
   "name": "python3"
  },
  "language_info": {
   "codemirror_mode": {
    "name": "ipython",
    "version": 3
   },
   "file_extension": ".py",
   "mimetype": "text/x-python",
   "name": "python",
   "nbconvert_exporter": "python",
   "pygments_lexer": "ipython3",
   "version": "3.12.3"
  }
 },
 "nbformat": 4,
 "nbformat_minor": 5
}
