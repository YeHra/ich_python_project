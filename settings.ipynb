{
 "cells": [
  {
   "cell_type": "code",
   "execution_count": null,
   "id": "bc205164-e33a-46a9-a2cd-ac22399053ca",
   "metadata": {},
   "outputs": [],
   "source": [
    "DATABASE_MYSQL_W = {\n",
    "    'host': 'ich-edit.edu.itcareerhub.de',\n",
    "    'user': 'ich1',\n",
    "    'password': 'ich1_password_ilovedbs',\n",
    "    'charset': 'utf8mb4'\n",
    "}\n",
    "\n",
    "DATABASE_MYSQL_NAME = 'library_group1_hiunter'"
   ]
  }
 ],
 "metadata": {
  "kernelspec": {
   "display_name": "Python 3 (ipykernel)",
   "language": "python",
   "name": "python3"
  },
  "language_info": {
   "codemirror_mode": {
    "name": "ipython",
    "version": 3
   },
   "file_extension": ".py",
   "mimetype": "text/x-python",
   "name": "python",
   "nbconvert_exporter": "python",
   "pygments_lexer": "ipython3",
   "version": "3.12.3"
  }
 },
 "nbformat": 4,
 "nbformat_minor": 5
}
